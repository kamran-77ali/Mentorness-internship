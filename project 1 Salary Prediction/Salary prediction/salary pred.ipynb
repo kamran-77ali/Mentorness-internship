{
 "cells": [
  {
   "cell_type": "code",
   "execution_count": 1,
   "id": "b4a7ca0f-458a-440d-bffd-9e006a864ca1",
   "metadata": {},
   "outputs": [],
   "source": [
    "# load data set\n",
    "import pandas as pd\n",
    "df=pd.read_csv(\"./Salary Prediction of Data Professions.csv\")\n"
   ]
  },
  {
   "cell_type": "markdown",
   "id": "c7c2c5b4-43bc-44f2-a071-065c173b6d9c",
   "metadata": {},
   "source": [
    "## Exploratory Data Analysis"
   ]
  },
  {
   "cell_type": "code",
   "execution_count": 2,
   "id": "d9131a36-5540-46ca-8279-2b16fedc0757",
   "metadata": {},
   "outputs": [
    {
     "data": {
      "text/html": [
       "<div>\n",
       "<style scoped>\n",
       "    .dataframe tbody tr th:only-of-type {\n",
       "        vertical-align: middle;\n",
       "    }\n",
       "\n",
       "    .dataframe tbody tr th {\n",
       "        vertical-align: top;\n",
       "    }\n",
       "\n",
       "    .dataframe thead th {\n",
       "        text-align: right;\n",
       "    }\n",
       "</style>\n",
       "<table border=\"1\" class=\"dataframe\">\n",
       "  <thead>\n",
       "    <tr style=\"text-align: right;\">\n",
       "      <th></th>\n",
       "      <th>FIRST NAME</th>\n",
       "      <th>LAST NAME</th>\n",
       "      <th>SEX</th>\n",
       "      <th>DOJ</th>\n",
       "      <th>CURRENT DATE</th>\n",
       "      <th>DESIGNATION</th>\n",
       "      <th>AGE</th>\n",
       "      <th>SALARY</th>\n",
       "      <th>UNIT</th>\n",
       "      <th>LEAVES USED</th>\n",
       "      <th>LEAVES REMAINING</th>\n",
       "      <th>RATINGS</th>\n",
       "      <th>PAST EXP</th>\n",
       "    </tr>\n",
       "  </thead>\n",
       "  <tbody>\n",
       "    <tr>\n",
       "      <th>0</th>\n",
       "      <td>TOMASA</td>\n",
       "      <td>ARMEN</td>\n",
       "      <td>F</td>\n",
       "      <td>5-18-2014</td>\n",
       "      <td>01-07-2016</td>\n",
       "      <td>Analyst</td>\n",
       "      <td>21.0</td>\n",
       "      <td>44570</td>\n",
       "      <td>Finance</td>\n",
       "      <td>24.0</td>\n",
       "      <td>6.0</td>\n",
       "      <td>2.0</td>\n",
       "      <td>0</td>\n",
       "    </tr>\n",
       "    <tr>\n",
       "      <th>1</th>\n",
       "      <td>ANNIE</td>\n",
       "      <td>NaN</td>\n",
       "      <td>F</td>\n",
       "      <td>NaN</td>\n",
       "      <td>01-07-2016</td>\n",
       "      <td>Associate</td>\n",
       "      <td>NaN</td>\n",
       "      <td>89207</td>\n",
       "      <td>Web</td>\n",
       "      <td>NaN</td>\n",
       "      <td>13.0</td>\n",
       "      <td>NaN</td>\n",
       "      <td>7</td>\n",
       "    </tr>\n",
       "    <tr>\n",
       "      <th>2</th>\n",
       "      <td>OLIVE</td>\n",
       "      <td>ANCY</td>\n",
       "      <td>F</td>\n",
       "      <td>7-28-2014</td>\n",
       "      <td>01-07-2016</td>\n",
       "      <td>Analyst</td>\n",
       "      <td>21.0</td>\n",
       "      <td>40955</td>\n",
       "      <td>Finance</td>\n",
       "      <td>23.0</td>\n",
       "      <td>7.0</td>\n",
       "      <td>3.0</td>\n",
       "      <td>0</td>\n",
       "    </tr>\n",
       "    <tr>\n",
       "      <th>3</th>\n",
       "      <td>CHERRY</td>\n",
       "      <td>AQUILAR</td>\n",
       "      <td>F</td>\n",
       "      <td>04-03-2013</td>\n",
       "      <td>01-07-2016</td>\n",
       "      <td>Analyst</td>\n",
       "      <td>22.0</td>\n",
       "      <td>45550</td>\n",
       "      <td>IT</td>\n",
       "      <td>22.0</td>\n",
       "      <td>8.0</td>\n",
       "      <td>3.0</td>\n",
       "      <td>0</td>\n",
       "    </tr>\n",
       "    <tr>\n",
       "      <th>4</th>\n",
       "      <td>LEON</td>\n",
       "      <td>ABOULAHOUD</td>\n",
       "      <td>M</td>\n",
       "      <td>11-20-2014</td>\n",
       "      <td>01-07-2016</td>\n",
       "      <td>Analyst</td>\n",
       "      <td>NaN</td>\n",
       "      <td>43161</td>\n",
       "      <td>Operations</td>\n",
       "      <td>27.0</td>\n",
       "      <td>3.0</td>\n",
       "      <td>NaN</td>\n",
       "      <td>3</td>\n",
       "    </tr>\n",
       "  </tbody>\n",
       "</table>\n",
       "</div>"
      ],
      "text/plain": [
       "  FIRST NAME   LAST NAME SEX         DOJ CURRENT DATE DESIGNATION   AGE  \\\n",
       "0     TOMASA       ARMEN   F   5-18-2014   01-07-2016     Analyst  21.0   \n",
       "1      ANNIE         NaN   F         NaN   01-07-2016   Associate   NaN   \n",
       "2      OLIVE        ANCY   F   7-28-2014   01-07-2016     Analyst  21.0   \n",
       "3     CHERRY     AQUILAR   F  04-03-2013   01-07-2016     Analyst  22.0   \n",
       "4       LEON  ABOULAHOUD   M  11-20-2014   01-07-2016     Analyst   NaN   \n",
       "\n",
       "   SALARY        UNIT  LEAVES USED  LEAVES REMAINING  RATINGS  PAST EXP  \n",
       "0   44570     Finance         24.0               6.0      2.0         0  \n",
       "1   89207         Web          NaN              13.0      NaN         7  \n",
       "2   40955     Finance         23.0               7.0      3.0         0  \n",
       "3   45550          IT         22.0               8.0      3.0         0  \n",
       "4   43161  Operations         27.0               3.0      NaN         3  "
      ]
     },
     "execution_count": 2,
     "metadata": {},
     "output_type": "execute_result"
    }
   ],
   "source": [
    "# Display first few rows\n",
    "df.head()"
   ]
  },
  {
   "cell_type": "code",
   "execution_count": 3,
   "id": "685f615e-2862-4c95-a00c-7f2bb2eef8b8",
   "metadata": {},
   "outputs": [
    {
     "data": {
      "text/html": [
       "<div>\n",
       "<style scoped>\n",
       "    .dataframe tbody tr th:only-of-type {\n",
       "        vertical-align: middle;\n",
       "    }\n",
       "\n",
       "    .dataframe tbody tr th {\n",
       "        vertical-align: top;\n",
       "    }\n",
       "\n",
       "    .dataframe thead th {\n",
       "        text-align: right;\n",
       "    }\n",
       "</style>\n",
       "<table border=\"1\" class=\"dataframe\">\n",
       "  <thead>\n",
       "    <tr style=\"text-align: right;\">\n",
       "      <th></th>\n",
       "      <th>FIRST NAME</th>\n",
       "      <th>LAST NAME</th>\n",
       "      <th>SEX</th>\n",
       "      <th>DOJ</th>\n",
       "      <th>CURRENT DATE</th>\n",
       "      <th>DESIGNATION</th>\n",
       "      <th>AGE</th>\n",
       "      <th>SALARY</th>\n",
       "      <th>UNIT</th>\n",
       "      <th>LEAVES USED</th>\n",
       "      <th>LEAVES REMAINING</th>\n",
       "      <th>RATINGS</th>\n",
       "      <th>PAST EXP</th>\n",
       "    </tr>\n",
       "  </thead>\n",
       "  <tbody>\n",
       "    <tr>\n",
       "      <th>2634</th>\n",
       "      <td>KATHERINE</td>\n",
       "      <td>ALSDON</td>\n",
       "      <td>F</td>\n",
       "      <td>6-28-2011</td>\n",
       "      <td>01-07-2016</td>\n",
       "      <td>Senior Manager</td>\n",
       "      <td>36.0</td>\n",
       "      <td>185977</td>\n",
       "      <td>Management</td>\n",
       "      <td>15.0</td>\n",
       "      <td>15.0</td>\n",
       "      <td>5.0</td>\n",
       "      <td>10</td>\n",
       "    </tr>\n",
       "    <tr>\n",
       "      <th>2635</th>\n",
       "      <td>LOUISE</td>\n",
       "      <td>ALTARAS</td>\n",
       "      <td>F</td>\n",
       "      <td>1-14-2014</td>\n",
       "      <td>01-07-2016</td>\n",
       "      <td>Analyst</td>\n",
       "      <td>23.0</td>\n",
       "      <td>45758</td>\n",
       "      <td>IT</td>\n",
       "      <td>17.0</td>\n",
       "      <td>13.0</td>\n",
       "      <td>2.0</td>\n",
       "      <td>0</td>\n",
       "    </tr>\n",
       "    <tr>\n",
       "      <th>2636</th>\n",
       "      <td>RENEE</td>\n",
       "      <td>ALVINO</td>\n",
       "      <td>F</td>\n",
       "      <td>1-23-2014</td>\n",
       "      <td>01-07-2016</td>\n",
       "      <td>Analyst</td>\n",
       "      <td>21.0</td>\n",
       "      <td>47315</td>\n",
       "      <td>Web</td>\n",
       "      <td>29.0</td>\n",
       "      <td>1.0</td>\n",
       "      <td>5.0</td>\n",
       "      <td>0</td>\n",
       "    </tr>\n",
       "    <tr>\n",
       "      <th>2637</th>\n",
       "      <td>TERI</td>\n",
       "      <td>ANASTASIO</td>\n",
       "      <td>F</td>\n",
       "      <td>3-17-2014</td>\n",
       "      <td>01-07-2016</td>\n",
       "      <td>Analyst</td>\n",
       "      <td>24.0</td>\n",
       "      <td>45172</td>\n",
       "      <td>Web</td>\n",
       "      <td>23.0</td>\n",
       "      <td>7.0</td>\n",
       "      <td>3.0</td>\n",
       "      <td>1</td>\n",
       "    </tr>\n",
       "    <tr>\n",
       "      <th>2638</th>\n",
       "      <td>GREGORY</td>\n",
       "      <td>ABARCA</td>\n",
       "      <td>M</td>\n",
       "      <td>9-18-2014</td>\n",
       "      <td>01-07-2016</td>\n",
       "      <td>Analyst</td>\n",
       "      <td>24.0</td>\n",
       "      <td>49176</td>\n",
       "      <td>Marketing</td>\n",
       "      <td>17.0</td>\n",
       "      <td>13.0</td>\n",
       "      <td>2.0</td>\n",
       "      <td>2</td>\n",
       "    </tr>\n",
       "  </tbody>\n",
       "</table>\n",
       "</div>"
      ],
      "text/plain": [
       "     FIRST NAME  LAST NAME SEX        DOJ CURRENT DATE     DESIGNATION   AGE  \\\n",
       "2634  KATHERINE     ALSDON   F  6-28-2011   01-07-2016  Senior Manager  36.0   \n",
       "2635     LOUISE    ALTARAS   F  1-14-2014   01-07-2016         Analyst  23.0   \n",
       "2636      RENEE     ALVINO   F  1-23-2014   01-07-2016         Analyst  21.0   \n",
       "2637       TERI  ANASTASIO   F  3-17-2014   01-07-2016         Analyst  24.0   \n",
       "2638    GREGORY     ABARCA   M  9-18-2014   01-07-2016         Analyst  24.0   \n",
       "\n",
       "      SALARY        UNIT  LEAVES USED  LEAVES REMAINING  RATINGS  PAST EXP  \n",
       "2634  185977  Management         15.0              15.0      5.0        10  \n",
       "2635   45758          IT         17.0              13.0      2.0         0  \n",
       "2636   47315         Web         29.0               1.0      5.0         0  \n",
       "2637   45172         Web         23.0               7.0      3.0         1  \n",
       "2638   49176   Marketing         17.0              13.0      2.0         2  "
      ]
     },
     "execution_count": 3,
     "metadata": {},
     "output_type": "execute_result"
    }
   ],
   "source": [
    "# display few last rows\n",
    "df.tail()"
   ]
  },
  {
   "cell_type": "code",
   "execution_count": 4,
   "id": "e1c2e744-6928-4d89-bcc1-6f3200afa01d",
   "metadata": {},
   "outputs": [
    {
     "data": {
      "text/html": [
       "<div>\n",
       "<style scoped>\n",
       "    .dataframe tbody tr th:only-of-type {\n",
       "        vertical-align: middle;\n",
       "    }\n",
       "\n",
       "    .dataframe tbody tr th {\n",
       "        vertical-align: top;\n",
       "    }\n",
       "\n",
       "    .dataframe thead th {\n",
       "        text-align: right;\n",
       "    }\n",
       "</style>\n",
       "<table border=\"1\" class=\"dataframe\">\n",
       "  <thead>\n",
       "    <tr style=\"text-align: right;\">\n",
       "      <th></th>\n",
       "      <th>AGE</th>\n",
       "      <th>SALARY</th>\n",
       "      <th>LEAVES USED</th>\n",
       "      <th>LEAVES REMAINING</th>\n",
       "      <th>RATINGS</th>\n",
       "      <th>PAST EXP</th>\n",
       "    </tr>\n",
       "  </thead>\n",
       "  <tbody>\n",
       "    <tr>\n",
       "      <th>count</th>\n",
       "      <td>2636.000000</td>\n",
       "      <td>2639.000000</td>\n",
       "      <td>2636.000000</td>\n",
       "      <td>2637.000000</td>\n",
       "      <td>2637.000000</td>\n",
       "      <td>2639.000000</td>\n",
       "    </tr>\n",
       "    <tr>\n",
       "      <th>mean</th>\n",
       "      <td>24.756449</td>\n",
       "      <td>58136.678287</td>\n",
       "      <td>22.501517</td>\n",
       "      <td>7.503223</td>\n",
       "      <td>3.486159</td>\n",
       "      <td>1.566881</td>\n",
       "    </tr>\n",
       "    <tr>\n",
       "      <th>std</th>\n",
       "      <td>3.908228</td>\n",
       "      <td>36876.956944</td>\n",
       "      <td>4.604469</td>\n",
       "      <td>4.603193</td>\n",
       "      <td>1.114933</td>\n",
       "      <td>2.728416</td>\n",
       "    </tr>\n",
       "    <tr>\n",
       "      <th>min</th>\n",
       "      <td>21.000000</td>\n",
       "      <td>40001.000000</td>\n",
       "      <td>15.000000</td>\n",
       "      <td>0.000000</td>\n",
       "      <td>2.000000</td>\n",
       "      <td>0.000000</td>\n",
       "    </tr>\n",
       "    <tr>\n",
       "      <th>25%</th>\n",
       "      <td>22.000000</td>\n",
       "      <td>43418.000000</td>\n",
       "      <td>19.000000</td>\n",
       "      <td>4.000000</td>\n",
       "      <td>2.000000</td>\n",
       "      <td>0.000000</td>\n",
       "    </tr>\n",
       "    <tr>\n",
       "      <th>50%</th>\n",
       "      <td>24.000000</td>\n",
       "      <td>46781.000000</td>\n",
       "      <td>22.000000</td>\n",
       "      <td>8.000000</td>\n",
       "      <td>3.000000</td>\n",
       "      <td>1.000000</td>\n",
       "    </tr>\n",
       "    <tr>\n",
       "      <th>75%</th>\n",
       "      <td>25.000000</td>\n",
       "      <td>51401.500000</td>\n",
       "      <td>26.000000</td>\n",
       "      <td>11.000000</td>\n",
       "      <td>4.000000</td>\n",
       "      <td>2.000000</td>\n",
       "    </tr>\n",
       "    <tr>\n",
       "      <th>max</th>\n",
       "      <td>45.000000</td>\n",
       "      <td>388112.000000</td>\n",
       "      <td>30.000000</td>\n",
       "      <td>15.000000</td>\n",
       "      <td>5.000000</td>\n",
       "      <td>23.000000</td>\n",
       "    </tr>\n",
       "  </tbody>\n",
       "</table>\n",
       "</div>"
      ],
      "text/plain": [
       "               AGE         SALARY  LEAVES USED  LEAVES REMAINING      RATINGS  \\\n",
       "count  2636.000000    2639.000000  2636.000000       2637.000000  2637.000000   \n",
       "mean     24.756449   58136.678287    22.501517          7.503223     3.486159   \n",
       "std       3.908228   36876.956944     4.604469          4.603193     1.114933   \n",
       "min      21.000000   40001.000000    15.000000          0.000000     2.000000   \n",
       "25%      22.000000   43418.000000    19.000000          4.000000     2.000000   \n",
       "50%      24.000000   46781.000000    22.000000          8.000000     3.000000   \n",
       "75%      25.000000   51401.500000    26.000000         11.000000     4.000000   \n",
       "max      45.000000  388112.000000    30.000000         15.000000     5.000000   \n",
       "\n",
       "          PAST EXP  \n",
       "count  2639.000000  \n",
       "mean      1.566881  \n",
       "std       2.728416  \n",
       "min       0.000000  \n",
       "25%       0.000000  \n",
       "50%       1.000000  \n",
       "75%       2.000000  \n",
       "max      23.000000  "
      ]
     },
     "execution_count": 4,
     "metadata": {},
     "output_type": "execute_result"
    }
   ],
   "source": [
    "# summary statistical for numarical value\n",
    "df.describe()"
   ]
  },
  {
   "cell_type": "code",
   "execution_count": 5,
   "id": "c87396f0-fda9-4fac-b319-0157724ed585",
   "metadata": {},
   "outputs": [
    {
     "name": "stdout",
     "output_type": "stream",
     "text": [
      "<class 'pandas.core.frame.DataFrame'>\n",
      "RangeIndex: 2639 entries, 0 to 2638\n",
      "Data columns (total 13 columns):\n",
      " #   Column            Non-Null Count  Dtype  \n",
      "---  ------            --------------  -----  \n",
      " 0   FIRST NAME        2639 non-null   object \n",
      " 1   LAST NAME         2637 non-null   object \n",
      " 2   SEX               2639 non-null   object \n",
      " 3   DOJ               2638 non-null   object \n",
      " 4   CURRENT DATE      2639 non-null   object \n",
      " 5   DESIGNATION       2639 non-null   object \n",
      " 6   AGE               2636 non-null   float64\n",
      " 7   SALARY            2639 non-null   int64  \n",
      " 8   UNIT              2639 non-null   object \n",
      " 9   LEAVES USED       2636 non-null   float64\n",
      " 10  LEAVES REMAINING  2637 non-null   float64\n",
      " 11  RATINGS           2637 non-null   float64\n",
      " 12  PAST EXP          2639 non-null   int64  \n",
      "dtypes: float64(4), int64(2), object(7)\n",
      "memory usage: 268.2+ KB\n"
     ]
    }
   ],
   "source": [
    "# display basic info\n",
    "df.info()"
   ]
  },
  {
   "cell_type": "code",
   "execution_count": 6,
   "id": "94611f2e-1e4f-4291-b1aa-8a70d1ed1601",
   "metadata": {},
   "outputs": [
    {
     "data": {
      "text/plain": [
       "FIRST NAME          0\n",
       "LAST NAME           2\n",
       "SEX                 0\n",
       "DOJ                 1\n",
       "CURRENT DATE        0\n",
       "DESIGNATION         0\n",
       "AGE                 3\n",
       "SALARY              0\n",
       "UNIT                0\n",
       "LEAVES USED         3\n",
       "LEAVES REMAINING    2\n",
       "RATINGS             2\n",
       "PAST EXP            0\n",
       "dtype: int64"
      ]
     },
     "execution_count": 6,
     "metadata": {},
     "output_type": "execute_result"
    }
   ],
   "source": [
    "# display null value in data \n",
    "df.isnull().sum()"
   ]
  },
  {
   "cell_type": "code",
   "execution_count": 7,
   "id": "fee260af-5908-46ee-b53c-5bee1c023e5f",
   "metadata": {},
   "outputs": [],
   "source": [
    "## Handling missing value\n",
    "df.fillna({\"LAST NAME\":\"Unknown\",\n",
    "          \"AGE\":df[\"AGE\"].mean(),\n",
    "          \"LEAVES USED\":0,\n",
    "          \"LEAVES REMAINING\":df[\"LEAVES REMAINING\"].median(),\n",
    "          \"RATINGS\":df[\"RATINGS\"].mode()[0]},inplace=True)\n",
    "df[\"DOJ\"].ffill(inplace=True)"
   ]
  },
  {
   "cell_type": "code",
   "execution_count": 8,
   "id": "644d6e78-3ec8-47c1-9703-6e41d96dd42f",
   "metadata": {},
   "outputs": [],
   "source": [
    "## convert infinete value as nan\n",
    "import numpy as np\n",
    "df.replace([np.inf,-np.inf],np.nan,inplace=True)"
   ]
  },
  {
   "cell_type": "code",
   "execution_count": 9,
   "id": "35fa3274-401d-4239-b5df-e849a02f1180",
   "metadata": {},
   "outputs": [
    {
     "data": {
      "text/plain": [
       "FIRST NAME          0\n",
       "LAST NAME           0\n",
       "SEX                 0\n",
       "DOJ                 0\n",
       "CURRENT DATE        0\n",
       "DESIGNATION         0\n",
       "AGE                 0\n",
       "SALARY              0\n",
       "UNIT                0\n",
       "LEAVES USED         0\n",
       "LEAVES REMAINING    0\n",
       "RATINGS             0\n",
       "PAST EXP            0\n",
       "dtype: int64"
      ]
     },
     "execution_count": 9,
     "metadata": {},
     "output_type": "execute_result"
    }
   ],
   "source": [
    "df.isnull().sum()"
   ]
  },
  {
   "cell_type": "markdown",
   "id": "f8277056-1b0c-4536-ae92-df5266591295",
   "metadata": {},
   "source": [
    "## Data Visualization"
   ]
  },
  {
   "cell_type": "code",
   "execution_count": 10,
   "id": "7368ee47-aa0b-4345-a1ff-0dd24d559def",
   "metadata": {},
   "outputs": [],
   "source": [
    "# import libraries\n",
    "import pandas as pd\n",
    "import seaborn as sns\n",
    "import matplotlib.pyplot as plt\n",
    "import warnings\n",
    "# Suppress specific warning\n",
    "warnings.filterwarnings(\"ignore\", category=FutureWarning, message=\".*use_inf_as_na.*\")"
   ]
  },
  {
   "cell_type": "code",
   "execution_count": 11,
   "id": "bc9cd025-3ea8-4ec9-ad22-d022bebcf2c2",
   "metadata": {},
   "outputs": [
    {
     "data": {
      "image/png": "[encoded data removed]",
      "text/plain": [
       "<Figure size 800x600 with 1 Axes>"
      ]
     },
     "metadata": {},
     "output_type": "display_data"
    }
   ],
   "source": [
    "## AGE distribution \n",
    "plt.figure(figsize=(8,6))\n",
    "sns.histplot(df[\"AGE\"],kde=True,bins=10)\n",
    "plt.title(\"AGE Distrbution\")\n",
    "plt.xlabel(\"AGE\")\n",
    "plt.ylabel(\"Frequency\")\n",
    "plt.show()"
   ]
  },
  {
   "cell_type": "code",
   "execution_count": 12,
   "id": "e303cc0e-c3a5-4f7c-8e7a-7e63d35dc4cb",
   "metadata": {},
   "outputs": [
    {
     "data": {
      "image/png": "[encoded data removed]",
      "text/plain": [
       "<Figure size 800x600 with 1 Axes>"
      ]
     },
     "metadata": {},
     "output_type": "display_data"
    }
   ],
   "source": [
    "## LEAVES USED VS LEAVES REMAINING\n",
    "plt.figure(figsize=(8,6))\n",
    "sns.histplot(df[\"LEAVES USED\"],kde=True,bins=10,color=\"blue\",label=\"LEAVES USED\")\n",
    "sns.histplot(df[\"LEAVES REMAINING\"],kde=True,bins=10,color=\"red\",label=\"LEAVES REMAINING\")\n",
    "plt.title(\"LEAVES USED VS LEAVES REMAINING\")\n",
    "plt.xlabel(\"Number of Leaves used\")\n",
    "plt.ylabel(\"Frequency\")\n",
    "plt.legend()\n",
    "plt.show()"
   ]
  },
  {
   "cell_type": "code",
   "execution_count": 13,
   "id": "8ed37404-9524-4d74-9d1b-d877fe9ca42e",
   "metadata": {},
   "outputs": [
    {
     "data": {
      "image/png": "[encoded data removed]",
      "text/plain": [
       "<Figure size 800x600 with 1 Axes>"
      ]
     },
     "metadata": {},
     "output_type": "display_data"
    }
   ],
   "source": [
    "## Ratings Distribution\n",
    "plt.figure(figsize=(8,6))\n",
    "sns.countplot(x=\"RATINGS\", data=df)\n",
    "plt.title(\"Ratings Distribution\")\n",
    "plt.xlabel(\"Ratings\")\n",
    "plt.ylabel(\"count\")\n",
    "plt.show()"
   ]
  },
  {
   "cell_type": "code",
   "execution_count": 14,
   "id": "c423b30d-861b-4e2f-b071-d4786593d210",
   "metadata": {},
   "outputs": [
    {
     "data": {
      "image/png": "[encoded data removed]",
      "text/plain": [
       "<Figure size 800x600 with 1 Axes>"
      ]
     },
     "metadata": {},
     "output_type": "display_data"
    }
   ],
   "source": [
    "## sex distribution\n",
    "plt.figure(figsize=(8,6))\n",
    "sns.countplot(x=\"SEX\",data=df)\n",
    "plt.title(\"SEX Distribution\")\n",
    "plt.xlabel(\"SEX\")\n",
    "plt.ylabel(\"Count\")\n",
    "plt.show()"
   ]
  },
  {
   "cell_type": "code",
   "execution_count": 15,
   "id": "18578af7-0d1c-455e-8758-cb20daa2824f",
   "metadata": {},
   "outputs": [
    {
     "data": {
      "image/png": "[encoded data removed]",
      "text/plain": [
       "<Figure size 800x600 with 1 Axes>"
      ]
     },
     "metadata": {},
     "output_type": "display_data"
    }
   ],
   "source": [
    "# barplot\n",
    "plt.figure(figsize=(8,6))\n",
    "sns.barplot(x=\"SEX\",y=\"AGE\",data=df)\n",
    "plt.title(\"Avrage Age by Sex\")\n",
    "plt.xlabel(\"SEX\")\n",
    "plt.ylabel(\"Average by AGE\")\n",
    "plt.show()"
   ]
  },
  {
   "cell_type": "code",
   "execution_count": 16,
   "id": "f1bcd4f3-5887-4f45-b9e0-af92667acd85",
   "metadata": {},
   "outputs": [
    {
     "data": {
      "image/png": "[encoded data removed]",
      "text/plain": [
       "<Figure size 800x800 with 1 Axes>"
      ]
     },
     "metadata": {},
     "output_type": "display_data"
    }
   ],
   "source": [
    "# Pie Chart (e.g., Distribution of Sex)\n",
    "plt.figure(figsize=(8, 8))\n",
    "df['SEX'].value_counts().plot.pie(autopct='%1.1f%%', startangle=90, colors=['blue', 'red'])\n",
    "plt.title('Sex Distribution')\n",
    "plt.ylabel('')  # Hide y-label\n",
    "plt.show()"
   ]
  },
  {
   "cell_type": "code",
   "execution_count": 17,
   "id": "bce496a3-eb6c-439d-8ce3-cf2459358ccc",
   "metadata": {},
   "outputs": [
    {
     "data": {
      "image/png": "[encoded data removed]",
      "text/plain": [
       "<Figure size 800x600 with 1 Axes>"
      ]
     },
     "metadata": {},
     "output_type": "display_data"
    }
   ],
   "source": [
    "# Box Plot (e.g., Age Distribution by Sex)\n",
    "plt.figure(figsize=(8, 6))\n",
    "sns.boxplot(x='SEX', y='AGE', data=df)\n",
    "plt.title('Age Distribution by Sex')\n",
    "plt.xlabel('Sex')\n",
    "plt.ylabel('Age')\n",
    "plt.show()"
   ]
  },
  {
   "cell_type": "markdown",
   "id": "f1884b49-2bb1-4d5c-8f95-f0588ab8a886",
   "metadata": {},
   "source": [
    "## Feature Engineering"
   ]
  },
  {
   "cell_type": "code",
   "execution_count": 18,
   "id": "c5dfc0c1-6504-43e6-8994-893feb94baf4",
   "metadata": {},
   "outputs": [
    {
     "name": "stdout",
     "output_type": "stream",
     "text": [
      "     FIRST NAME        DOJ  JOB_HOPPING_FREQUENCY HIERARCHY_LEVEL  \\\n",
      "0        TOMASA 2014-05-18                      3             Mid   \n",
      "1         ANNIE 2014-05-18                      3           Entry   \n",
      "2         OLIVE 2014-07-28                      2           Entry   \n",
      "3        CHERRY 2013-04-03                      0             Mid   \n",
      "4          LEON 2014-11-20                      2             Mid   \n",
      "...         ...        ...                    ...             ...   \n",
      "2634  KATHERINE 2011-06-28                      2           Entry   \n",
      "2635     LOUISE 2014-01-14                      0           Entry   \n",
      "2636      RENEE 2014-01-23                      1           Entry   \n",
      "2637       TERI 2014-03-17                      2          Senior   \n",
      "2638    GREGORY 2014-09-18                      1          Senior   \n",
      "\n",
      "      PERFORMANCE_TREND  TOP_PERFORMER  LEAVE_UTILIZATION_RATE AGE_GROUP  \n",
      "0              0.057121              0                0.800000     20-30  \n",
      "1              0.520459              1                0.000000     20-30  \n",
      "2              0.619625              0                0.766667     20-30  \n",
      "3              0.023101              0                0.733333     20-30  \n",
      "4             -0.424190              1                0.900000     20-30  \n",
      "...                 ...            ...                     ...       ...  \n",
      "2634          -0.122565              1                0.500000     30-40  \n",
      "2635           0.088612              0                0.566667     20-30  \n",
      "2636          -0.315535              1                0.966667     20-30  \n",
      "2637          -0.421211              0                0.766667     20-30  \n",
      "2638          -0.550218              0                0.566667     20-30  \n",
      "\n",
      "[2639 rows x 8 columns]\n"
     ]
    }
   ],
   "source": [
    "import pandas as pd\n",
    "import numpy as np\n",
    "from datetime import datetime\n",
    "## convert date columns to datetime\n",
    "df[\"DOJ\"]=pd.to_datetime(df[\"DOJ\"])\n",
    "## calculate years of services\n",
    "current_date=datetime.now()\n",
    "df[\"Years of services\"]=(current_date-df[\"DOJ\"]).dt.days/365.25\n",
    "## Calculate Age at joining\n",
    "df[\"AGE at Joining\"]=(df[\"DOJ\"]-pd.to_datetime(\"now\")).dt.days/365.25* -1+df[\"AGE\"]\n",
    "# Job Hopping Frequency (Assuming 0-3 for demonstration)\n",
    "df['JOB_HOPPING_FREQUENCY'] = np.random.randint(0, 4, len(df))\n",
    "# Hierarchy Level (Assuming 3 levels for demonstration)\n",
    "df['HIERARCHY_LEVEL'] = np.random.choice(['Entry', 'Mid', 'Senior'], len(df))\n",
    "# Job Hopping Frequency (Assuming 0-3 for demonstration)\n",
    "df['JOB_HOPPING_FREQUENCY'] = np.random.randint(0, 4, len(df))\n",
    "# Performance Trend (Assuming random change for demonstration)\n",
    "df['PERFORMANCE_TREND'] = np.random.uniform(-1, 1, len(df))\n",
    "\n",
    "# Top Performer Indicator (Assuming top 25% as top performers for demonstration)\n",
    "df['TOP_PERFORMER'] = np.where(df['RATINGS'] >= df['RATINGS'].quantile(0.75), 1, 0)\n",
    "\n",
    "# Leave Utilization Rate\n",
    "df['LEAVE_UTILIZATION_RATE'] = df['LEAVES USED'] / (df['LEAVES USED'] + df['LEAVES REMAINING'])\n",
    "# Age Group\n",
    "bins = [20, 30, 40, 50, np.inf]\n",
    "labels = ['20-30', '30-40', '40-50', '50+']\n",
    "df['AGE_GROUP'] = pd.cut(df['AGE'], bins=bins, labels=labels)\n",
    "\n",
    "# Display the engineered features\n",
    "print(df[['FIRST NAME', 'DOJ',   \n",
    "           'JOB_HOPPING_FREQUENCY', 'HIERARCHY_LEVEL', 'PERFORMANCE_TREND', \n",
    "          'TOP_PERFORMER', 'LEAVE_UTILIZATION_RATE', 'AGE_GROUP']])"
   ]
  },
  {
   "cell_type": "markdown",
   "id": "505bc544-e131-4408-964f-2995f282fc5c",
   "metadata": {},
   "source": [
    "## Data Preprocessing"
   ]
  },
  {
   "cell_type": "code",
   "execution_count": 19,
   "id": "0e317f97-349d-41d6-a605-3533a6d58869",
   "metadata": {},
   "outputs": [
    {
     "name": "stdout",
     "output_type": "stream",
     "text": [
      "                                                   0\n",
      "0    (0, 0)\\t-0.961893520717477\\n  (0, 1)\\t0.3268...\n",
      "1    (0, 1)\\t-4.820019962014959\\n  (0, 2)\\t1.1947...\n",
      "2    (0, 0)\\t-0.961893520717477\\n  (0, 1)\\t0.1123...\n",
      "3    (0, 0)\\t-0.705828955921348\\n  (0, 1)\\t-0.102...\n",
      "4    (0, 1)\\t0.9701962155055565\\n  (0, 2)\\t-0.978...\n"
     ]
    }
   ],
   "source": [
    "import pandas as pd\n",
    "from sklearn.impute import SimpleImputer\n",
    "from sklearn.preprocessing import OneHotEncoder, StandardScaler\n",
    "from sklearn.compose import ColumnTransformer\n",
    "from sklearn.pipeline import Pipeline\n",
    "# Define preprocessing steps\n",
    "numeric_features = ['AGE', 'LEAVES USED', 'LEAVES REMAINING', 'RATINGS']\n",
    "numeric_transformer = Pipeline(steps=[\n",
    "    ('imputer', SimpleImputer(strategy='mean')),  # Impute missing values with mean\n",
    "    ('scaler', StandardScaler())  # Standardize features\n",
    "])\n",
    "\n",
    "categorical_features = ['FIRST NAME', 'LAST NAME', 'SEX', 'DOJ']\n",
    "categorical_transformer = Pipeline(steps=[\n",
    "    ('imputer', SimpleImputer(strategy='constant', fill_value='Unknown')),  # Impute missing values with 'Unknown'\n",
    "    ('onehot', OneHotEncoder())  # One-hot encode categorical variables\n",
    "])\n",
    "\n",
    "# Combine preprocessing steps\n",
    "preprocessor = ColumnTransformer(\n",
    "    transformers=[\n",
    "        ('num', numeric_transformer, numeric_features),\n",
    "        ('cat', categorical_transformer, categorical_features)\n",
    "    ])\n",
    "\n",
    "# Apply preprocessing pipeline to the DataFrame\n",
    "processed_data = preprocessor.fit_transform(df)\n",
    "\n",
    "# Convert processed_data to DataFrame for visualization and model training\n",
    "processed_df = pd.DataFrame(processed_data)\n",
    "print(processed_df.head())"
   ]
  },
  {
   "cell_type": "markdown",
   "id": "0d1c4902-de09-46ef-b64d-c183255deeb6",
   "metadata": {},
   "source": [
    "## Machine Learining Model Development"
   ]
  },
  {
   "cell_type": "code",
   "execution_count": 20,
   "id": "94a2c3b9-f250-4d8b-80bc-0e5302b6660d",
   "metadata": {},
   "outputs": [
    {
     "name": "stdout",
     "output_type": "stream",
     "text": [
      "Model: Linear Regression\n",
      "Mean Squared Error: 97367061.01683745\n",
      "Mean Absolute Error: 4534.195857834999\n",
      "R-squared: 0.9413641103489252\n",
      "\n",
      "\n",
      "Model: Decision Tree\n",
      "Mean Squared Error: 188944482.0094697\n",
      "Mean Absolute Error: 5661.808712121212\n",
      "R-squared: 0.8862148278731459\n",
      "\n",
      "\n",
      "Model: Random Forest\n",
      "Mean Squared Error: 111356241.35990189\n",
      "Mean Absolute Error: 4555.923825757576\n",
      "R-squared: 0.9329396182636288\n",
      "\n",
      "\n",
      "Model: Gradient Boosting\n",
      "Mean Squared Error: 120493405.01462825\n",
      "Mean Absolute Error: 4686.372133401799\n",
      "R-squared: 0.9274370826608576\n",
      "\n",
      "\n"
     ]
    }
   ],
   "source": [
    "import pandas as pd\n",
    "from sklearn.model_selection import train_test_split\n",
    "from sklearn.linear_model import LinearRegression\n",
    "from sklearn.tree import DecisionTreeRegressor\n",
    "from sklearn.ensemble import RandomForestRegressor, GradientBoostingRegressor\n",
    "from sklearn.metrics import mean_squared_error, mean_absolute_error, r2_score\n",
    "from sklearn.preprocessing import OneHotEncoder\n",
    "from sklearn.compose import ColumnTransformer\n",
    "from sklearn.pipeline import Pipeline\n",
    "from sklearn.impute import SimpleImputer\n",
    "\n",
    "# Assuming df is your DataFrame\n",
    "# Let's say df is already defined and loaded with your data\n",
    "\n",
    "# Separating features and target variable\n",
    "X = df.drop(columns=['SALARY'])\n",
    "y = df['SALARY']\n",
    "\n",
    "# Identifying categorical and numerical columns\n",
    "categorical_cols = X.select_dtypes(include=['object']).columns\n",
    "numerical_cols = X.select_dtypes(include=['int64', 'float64']).columns\n",
    "\n",
    "# Preprocessing for numerical data\n",
    "numerical_transformer = SimpleImputer(strategy='mean')\n",
    "\n",
    "# Preprocessing for categorical data\n",
    "categorical_transformer = Pipeline(steps=[\n",
    "    ('imputer', SimpleImputer(strategy='most_frequent')),\n",
    "    ('onehot', OneHotEncoder(handle_unknown='ignore'))\n",
    "])\n",
    "\n",
    "# Bundle preprocessing for numerical and categorical data\n",
    "preprocessor = ColumnTransformer(\n",
    "    transformers=[\n",
    "        ('num', numerical_transformer, numerical_cols),\n",
    "        ('cat', categorical_transformer, categorical_cols)\n",
    "    ])\n",
    "\n",
    "# Create preprocessing and modeling pipeline\n",
    "def create_pipeline(model):\n",
    "    return Pipeline(steps=[\n",
    "        ('preprocessor', preprocessor),\n",
    "        ('model', model)\n",
    "    ])\n",
    "\n",
    "# Define models\n",
    "models = {\n",
    "    'Linear Regression': create_pipeline(LinearRegression()),\n",
    "    'Decision Tree': create_pipeline(DecisionTreeRegressor(random_state=42)),\n",
    "    'Random Forest': create_pipeline(RandomForestRegressor(random_state=42)),\n",
    "    'Gradient Boosting': create_pipeline(GradientBoostingRegressor(random_state=42))\n",
    "}\n",
    "\n",
    "# Split data into training and testing sets\n",
    "X_train, X_test, y_train, y_test = train_test_split(X, y, test_size=0.2, random_state=42)\n",
    "\n",
    "# Train and evaluate models\n",
    "for name, model in models.items():\n",
    "    model.fit(X_train, y_train)\n",
    "    y_pred = model.predict(X_test)\n",
    "    mse = mean_squared_error(y_test, y_pred)\n",
    "    mae = mean_absolute_error(y_test, y_pred)\n",
    "    r2 = r2_score(y_test, y_pred)\n",
    "    print(f\"Model: {name}\")\n",
    "    print(f\"Mean Squared Error: {mse}\")\n",
    "    print(f\"Mean Absolute Error: {mae}\")\n",
    "    print(f\"R-squared: {r2}\")\n",
    "    print(\"\\n\")\n"
   ]
  },
  {
   "cell_type": "code",
   "execution_count": 21,
   "id": "864efe87-99fb-4b6a-a2ad-2d070308f318",
   "metadata": {},
   "outputs": [
    {
     "name": "stdout",
     "output_type": "stream",
     "text": [
      "               Model           MSE          MAE          RMSE        R2\n",
      "0  Linear Regression  9.736706e+07  4534.195858   9867.474906  0.941364\n",
      "1      Decision Tree  1.889445e+08  5661.808712  13745.707767  0.886215\n",
      "2      Random Forest  1.113562e+08  4555.923826  10552.546677  0.932940\n",
      "3  Gradient Boosting  1.204934e+08  4686.372133  10976.948803  0.927437\n",
      "\n",
      "Best Model based on R-squared:\n",
      "Model    Linear Regression\n",
      "MSE        97367061.016837\n",
      "MAE            4534.195858\n",
      "RMSE           9867.474906\n",
      "R2                0.941364\n",
      "Name: 0, dtype: object\n"
     ]
    }
   ],
   "source": [
    "import pandas as pd\n",
    "from sklearn.model_selection import train_test_split\n",
    "from sklearn.linear_model import LinearRegression\n",
    "from sklearn.tree import DecisionTreeRegressor\n",
    "from sklearn.ensemble import RandomForestRegressor, GradientBoostingRegressor\n",
    "from sklearn.metrics import mean_squared_error, mean_absolute_error, r2_score\n",
    "from sklearn.preprocessing import OneHotEncoder\n",
    "from sklearn.compose import ColumnTransformer\n",
    "from sklearn.pipeline import Pipeline\n",
    "from sklearn.impute import SimpleImputer\n",
    "import numpy as np\n",
    "\n",
    "# Assuming df is your DataFrame\n",
    "# Let's say df is already defined and loaded with your data\n",
    "\n",
    "# Separating features and target variable\n",
    "X = df.drop(columns=['SALARY'])\n",
    "y = df['SALARY']\n",
    "\n",
    "# Identifying categorical and numerical columns\n",
    "categorical_cols = X.select_dtypes(include=['object']).columns\n",
    "numerical_cols = X.select_dtypes(include=['int64', 'float64']).columns\n",
    "\n",
    "# Preprocessing for numerical data\n",
    "numerical_transformer = SimpleImputer(strategy='mean')\n",
    "\n",
    "# Preprocessing for categorical data\n",
    "categorical_transformer = Pipeline(steps=[\n",
    "    ('imputer', SimpleImputer(strategy='most_frequent')),\n",
    "    ('onehot', OneHotEncoder(handle_unknown='ignore'))\n",
    "])\n",
    "\n",
    "# Bundle preprocessing for numerical and categorical data\n",
    "preprocessor = ColumnTransformer(\n",
    "    transformers=[\n",
    "        ('num', numerical_transformer, numerical_cols),\n",
    "        ('cat', categorical_transformer, categorical_cols)\n",
    "    ])\n",
    "\n",
    "# Create preprocessing and modeling pipeline\n",
    "def create_pipeline(model):\n",
    "    return Pipeline(steps=[\n",
    "        ('preprocessor', preprocessor),\n",
    "        ('model', model)\n",
    "    ])\n",
    "\n",
    "# Define models\n",
    "models = {\n",
    "    'Linear Regression': create_pipeline(LinearRegression()),\n",
    "    'Decision Tree': create_pipeline(DecisionTreeRegressor(random_state=42)),\n",
    "    'Random Forest': create_pipeline(RandomForestRegressor(random_state=42)),\n",
    "    'Gradient Boosting': create_pipeline(GradientBoostingRegressor(random_state=42))\n",
    "}\n",
    "\n",
    "# Split data into training and testing sets\n",
    "X_train, X_test, y_train, y_test = train_test_split(X, y, test_size=0.2, random_state=42)\n",
    "\n",
    "# Train and evaluate models\n",
    "evaluation_results = []\n",
    "\n",
    "for name, model in models.items():\n",
    "    model.fit(X_train, y_train)\n",
    "    y_pred = model.predict(X_test)\n",
    "    \n",
    "    mse = mean_squared_error(y_test, y_pred)\n",
    "    mae = mean_absolute_error(y_test, y_pred)\n",
    "    rmse = np.sqrt(mse)\n",
    "    r2 = r2_score(y_test, y_pred)\n",
    "    \n",
    "    evaluation_results.append({\n",
    "        'Model': name,\n",
    "        'MSE': mse,\n",
    "        'MAE': mae,\n",
    "        'RMSE': rmse,\n",
    "        'R2': r2\n",
    "    })\n",
    "\n",
    "# Convert results to a DataFrame for better visualization\n",
    "results_df = pd.DataFrame(evaluation_results)\n",
    "print(results_df)\n",
    "\n",
    "# Identify the model with the best performance based on R2 score\n",
    "best_model = results_df.loc[results_df['R2'].idxmax()]\n",
    "print(\"\\nBest Model based on R-squared:\")\n",
    "print(best_model)\n"
   ]
  },
  {
   "cell_type": "code",
   "execution_count": 22,
   "id": "628f4b6b-fa52-4243-93d8-27c897798618",
   "metadata": {},
   "outputs": [
    {
     "data": {
      "text/plain": [
       "['best_model.pkl']"
      ]
     },
     "execution_count": 22,
     "metadata": {},
     "output_type": "execute_result"
    }
   ],
   "source": [
    "import joblib\n",
    "\n",
    "# Save the best model to disk\n",
    "joblib.dump(best_model, 'best_model.pkl')\n"
   ]
  },
  {
   "cell_type": "markdown",
   "id": "bc09d03c-5de1-4c7c-837f-e106a50990b9",
   "metadata": {},
   "source": [
    "## Recommendation"
   ]
  },
  {
   "cell_type": "markdown",
   "id": "68890802-aef1-470d-a422-f998a63be9d4",
   "metadata": {},
   "source": [
    " Based on your findings and insights from the model, provide actionable\n",
    " recommendations. These recommendations can be related to factors influencing salaries and potential\n",
    " strategies for improving earnings in data professions."
   ]
  },
  {
   "cell_type": "code",
   "execution_count": null,
   "id": "79b66f78-9050-48c6-a8d9-7f836c0debec",
   "metadata": {},
   "outputs": [],
   "source": []
  }
 ],
 "metadata": {
  "kernelspec": {
   "display_name": "Python 3 (ipykernel)",
   "language": "python",
   "name": "python3"
  },
  "language_info": {
   "codemirror_mode": {
    "name": "ipython",
    "version": 3
   },
   "file_extension": ".py",
   "mimetype": "text/x-python",
   "name": "python",
   "nbconvert_exporter": "python",
   "pygments_lexer": "ipython3",
   "version": "3.12.3"
  }
 },
 "nbformat": 4,
 "nbformat_minor": 5
}
